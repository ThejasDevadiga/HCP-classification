{
 "cells": [
  {
   "cell_type": "code",
   "execution_count": 1,
   "metadata": {},
   "outputs": [],
   "source": [
    "import pandas as pd\n",
    "from sklearn.naive_bayes import MultinomialNB, GaussianNB\n",
    "from sklearn.model_selection import GridSearchCV ,train_test_split\n",
    "from sklearn.metrics import accuracy_score\n",
    "from sklearn.preprocessing import LabelEncoder"
   ]
  },
  {
   "cell_type": "code",
   "execution_count": 2,
   "metadata": {},
   "outputs": [],
   "source": [
    "data = pd.read_csv('./Doceree-HCP_Train.csv',encoding='latin1')\n",
    "\n",
    "data.drop(['ID', 'CHANNELTYPE','USERAGENT'], axis=1, inplace=True)\n",
    "\n",
    "\n",
    "label_encoder = LabelEncoder()\n",
    "\n",
    "# Fit and transform the 'DEVICETYPE' column\n",
    "data['DEVICETYPE'] = label_encoder.fit_transform(data['DEVICETYPE'])\n",
    "data['USERCITY'] = label_encoder.fit_transform(data['USERCITY'])\n",
    "data['PLATFORMTYPE'] = label_encoder.fit_transform(data['PLATFORMTYPE'])\n",
    "data['TAXONOMY'] = label_encoder.fit_transform(data['TAXONOMY'])\n",
    "data['URL'] = label_encoder.fit_transform(data['URL'])\n",
    "data['KEYWORDS'] = label_encoder.fit_transform(data['KEYWORDS'])\n",
    "data['BIDREQUESTIP'] = label_encoder.fit_transform(data['BIDREQUESTIP'])\n",
    "data['USERPLATFORMUID'] = label_encoder.fit_transform(data['USERPLATFORMUID'])\n",
    "\n",
    "data['USERZIPCODE'].fillna(-1, inplace=True)\n",
    "data['IS_HCP'].fillna(0, inplace=True)\n",
    "\n",
    "\n",
    "features = ['DEVICETYPE', 'PLATFORM_ID', 'BIDREQUESTIP','USERPLATFORMUID', 'USERCITY', 'USERZIPCODE', 'PLATFORMTYPE', 'URL', 'KEYWORDS']\n",
    "\n",
    "X = data[features]\n",
    "y = data['IS_HCP']\n",
    "\n",
    "X_train, X_test, y_train, y_test = train_test_split(X, y, test_size=0.2, random_state=42)"
   ]
  },
  {
   "cell_type": "code",
   "execution_count": 12,
   "metadata": {},
   "outputs": [
    {
     "name": "stdout",
     "output_type": "stream",
     "text": [
      "Best Model Accuracy: 0.7347\n"
     ]
    }
   ],
   "source": [
    "\n",
    "# Create the Gaussian Naive Bayes classifier\n",
    "nb = GaussianNB()\n",
    "\n",
    "# Define the parameter grid for the Naive Bayes classifier\n",
    "param_grid = {\n",
    "    'var_smoothing': [0,10, 20,30,40,50,60,70,80, 1000 ]\n",
    "}\n",
    "\n",
    "# Perform grid search with cross-validation\n",
    "grid_search = GridSearchCV(estimator=nb, param_grid=param_grid, cv=3)\n",
    "grid_search.fit(X_train, y_train)\n",
    "\n",
    "# Get the best hyperparameters and the best model\n",
    "best_params = grid_search.best_params_\n",
    "best_model = grid_search.best_estimator_\n",
    "\n",
    "# Evaluate the best model on the test set\n",
    "y_pred = best_model.predict(X_test)\n",
    "accuracy = accuracy_score(y_test, y_pred)\n",
    "print(f\"Best Model Accuracy: {accuracy:.4f}\")\n"
   ]
  }
 ],
 "metadata": {
  "kernelspec": {
   "display_name": "Python 3",
   "language": "python",
   "name": "python3"
  },
  "language_info": {
   "codemirror_mode": {
    "name": "ipython",
    "version": 3
   },
   "file_extension": ".py",
   "mimetype": "text/x-python",
   "name": "python",
   "nbconvert_exporter": "python",
   "pygments_lexer": "ipython3",
   "version": "3.10.10"
  },
  "orig_nbformat": 4
 },
 "nbformat": 4,
 "nbformat_minor": 2
}
