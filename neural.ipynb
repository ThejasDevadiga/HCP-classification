{
 "cells": [
  {
   "cell_type": "code",
   "execution_count": 2,
   "metadata": {},
   "outputs": [],
   "source": [
    "import pandas as pd\n",
    "from sklearn.model_selection import train_test_split ,GridSearchCV\n",
    "from sklearn.ensemble import RandomForestClassifier\n",
    "import tensorflow as tf\n",
    "from sklearn.neural_network import MLPClassifier\n",
    "\n",
    "from sklearn.linear_model import LogisticRegression\n",
    "from sklearn.metrics import accuracy_score \n",
    "from sklearn.preprocessing import LabelEncoder\n",
    "\n",
    "from sklearn.preprocessing import OneHotEncoder\n",
    "\n",
    "# Create an instance of OneHotEncoder\n",
    "encoder = OneHotEncoder()"
   ]
  },
  {
   "cell_type": "code",
   "execution_count": 3,
   "metadata": {},
   "outputs": [],
   "source": [
    "data = pd.read_csv('./Doceree-HCP_Train.csv',encoding='latin1')\n",
    "\n",
    "data = data[data['IS_HCP'] == 1]\n",
    "\n",
    "\n",
    "data.drop(['ID', 'CHANNELTYPE','USERAGENT'], axis=1, inplace=True)\n",
    "\n",
    "\n",
    "label_encoder = LabelEncoder()\n",
    "\n",
    "\n",
    "# Fit and transform the 'DEVICETYPE' column\n",
    "data['DEVICETYPE'] = label_encoder.fit_transform(data['DEVICETYPE'])\n",
    "data['USERCITY'] = label_encoder.fit_transform(data['USERCITY'])\n",
    "data['PLATFORMTYPE'] = label_encoder.fit_transform(data['PLATFORMTYPE'])\n",
    "data['TAXONOMY'] = label_encoder.fit_transform(data['TAXONOMY'])\n",
    "data['URL'] = label_encoder.fit_transform(data['URL'])\n",
    "data['KEYWORDS'] = label_encoder.fit_transform(data['KEYWORDS'])\n",
    "data['BIDREQUESTIP'] = label_encoder.fit_transform(data['BIDREQUESTIP'])\n",
    "data['USERPLATFORMUID'] = label_encoder.fit_transform(data['USERPLATFORMUID'])\n",
    "\n",
    "data['USERZIPCODE'].fillna(-1, inplace=True)\n",
    "data['IS_HCP'].fillna(0, inplace=True)\n",
    "\n",
    "\n",
    "features = ['DEVICETYPE', 'PLATFORM_ID', 'BIDREQUESTIP','USERPLATFORMUID', 'USERCITY', 'USERZIPCODE', 'PLATFORMTYPE', 'URL', 'KEYWORDS','IS_HCP']\n",
    "\n",
    "X = data[features]\n",
    "y = data[\"TAXONOMY\"]\n",
    "\n",
    "X_train, X_test, y_train, y_test = train_test_split(X, y, test_size=0.2, random_state=42)"
   ]
  },
  {
   "cell_type": "code",
   "execution_count": 8,
   "metadata": {},
   "outputs": [
    {
     "name": "stderr",
     "output_type": "stream",
     "text": [
      "c:\\Users\\mrdev\\AppData\\Local\\Programs\\Python\\Python310\\lib\\site-packages\\sklearn\\model_selection\\_split.py:725: UserWarning: The least populated class in y has only 1 members, which is less than n_splits=5.\n",
      "  warnings.warn(\n"
     ]
    },
    {
     "name": "stdout",
     "output_type": "stream",
     "text": [
      "Best Model Accuracy: 0.7185\n"
     ]
    }
   ],
   "source": [
    "param_grid = {\n",
    "    'n_estimators': [100, 200, 300],\n",
    "    'max_depth': [None, 2, 10],\n",
    "    'min_samples_split': [4]\n",
    "}\n",
    "\n",
    "# Create the Random Forest classifier\n",
    "rf = RandomForestClassifier(random_state=42)\n",
    "\n",
    "# Perform grid search with cross-validation\n",
    "grid_search = GridSearchCV(estimator=rf, param_grid=param_grid, cv=5)\n",
    "grid_search.fit(X_train, y_train)\n",
    "\n",
    "# Get the best hyperparameters and the best model\n",
    "best_params = grid_search.best_params_\n",
    "best_model = grid_search.best_estimator_\n",
    "\n",
    "# Evaluate the best model on the test set\n",
    "y_pred = best_model.predict(X_test)\n",
    "accuracy = accuracy_score(y_test, y_pred)\n",
    "print(f\"Best Model Accuracy: {accuracy:.4f}\")"
   ]
  }
 ],
 "metadata": {
  "kernelspec": {
   "display_name": "Python 3",
   "language": "python",
   "name": "python3"
  },
  "language_info": {
   "codemirror_mode": {
    "name": "ipython",
    "version": 3
   },
   "file_extension": ".py",
   "mimetype": "text/x-python",
   "name": "python",
   "nbconvert_exporter": "python",
   "pygments_lexer": "ipython3",
   "version": "3.10.10"
  },
  "orig_nbformat": 4
 },
 "nbformat": 4,
 "nbformat_minor": 2
}
